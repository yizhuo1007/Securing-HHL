{
 "cells": [
  {
   "cell_type": "code",
   "execution_count": 1,
   "metadata": {},
   "outputs": [
    {
     "name": "stderr",
     "output_type": "stream",
     "text": [
      "/var/folders/h3/mc63pl7x7kb9s61dxd7795jc0000gn/T/ipykernel_16809/1620831284.py:18: DeprecationWarning: The package qiskit_ibm_provider is being deprecated. Please see https://docs.quantum.ibm.com/api/migration-guides/qiskit-runtime to get instructions on how to migrate to qiskit-ibm-runtime (https://github.com/Qiskit/qiskit-ibm-runtime).\n",
      "  import qiskit_ibm_provider\n"
     ]
    }
   ],
   "source": [
    "from qiskit import QuantumCircuit, transpile\n",
    "from qiskit.providers.basic_provider import BasicProvider\n",
    "from qiskit.visualization import plot_histogram\n",
    "from qiskit import QuantumRegister, ClassicalRegister\n",
    "from qiskit.quantum_info import Statevector\n",
    "from matplotlib import pyplot as plt\n",
    "from pylatexenc import *\n",
    "from qiskit.circuit.library import QFT\n",
    "import numpy as np\n",
    "from numpy import pi\n",
    "from matplotlib import pyplot as plt\n",
    "import math\n",
    "from scipy.optimize import curve_fit\n",
    "from sklearn.discriminant_analysis import LinearDiscriminantAnalysis\n",
    "from sklearn.model_selection import train_test_split\n",
    "from qiskit import pulse                 \n",
    "from qiskit.circuit import Parameter, Gate\n",
    "import qiskit_ibm_provider\n",
    "from qiskit_ibm_provider import IBMProvider\n",
    "from qiskit_ibm_provider.job import job_monitor\n",
    "from qiskit_ibm_runtime import QiskitRuntimeService\n",
    "from qiskit_ibm_runtime import QiskitRuntimeService, Sampler, Estimator, Session, Options\n",
    "from qiskit.transpiler import Layout"
   ]
  },
  {
   "cell_type": "code",
   "execution_count": 2,
   "metadata": {},
   "outputs": [],
   "source": [
    "# Save an IBM Quantum account.\n",
    "QiskitRuntimeService.save_account(channel=\"ibm_quantum\", token=\"0f27a49a635e95723fc17420d91522041c25b954095b0b646f681bd4e449104fbb524532a6e4bef9c31bbb7372d605f73c6f474382e8b754f23b29e4adf8e9e0\",overwrite=True)\n",
    "# # Loading your IBM Quantum account(s)\n",
    "service = QiskitRuntimeService(channel=\"ibm_quantum\")\n",
    "# Choose your backend\n",
    "provider = IBMProvider()\n",
    "backend_name = 'ibm_brisbane'\n",
    "backend = provider.get_backend(backend_name)\n",
    "\n",
    "backend_defaults = backend.defaults()\n",
    "\n",
    "backend_properties = backend.properties()"
   ]
  },
  {
   "cell_type": "code",
   "execution_count": 3,
   "metadata": {},
   "outputs": [],
   "source": [
    "qubit_12_freq = 4409711500\n",
    "pi_amp_12 = 0.2466186343423263\n",
    "x12_duration = 160\n",
    "x12_sigma = 40\n",
    "qubit = 0"
   ]
  },
  {
   "cell_type": "code",
   "execution_count": 4,
   "metadata": {},
   "outputs": [],
   "source": [
    "## Build 1->2 pulse\n",
    "with pulse.build(backend=backend, default_alignment='sequential', name='x12 schedule') as x12_sched:\n",
    "    drive_chan = pulse.drive_channel(qubit)\n",
    "    pulse.set_frequency(qubit_12_freq, drive_chan)\n",
    "    pulse.play(pulse.Gaussian(duration=x12_duration,\n",
    "                              amp=pi_amp_12,\n",
    "                              sigma=x12_sigma,\n",
    "                              name='x12_pulse'), drive_chan)\n",
    "x12_gate = Gate(\"one_two_pulse\", 1, [])"
   ]
  },
  {
   "cell_type": "code",
   "execution_count": 5,
   "metadata": {},
   "outputs": [],
   "source": [
    "n_a = 1 ## ancilla\n",
    "n_a_new = 1  ## new ancilla for defense\n",
    "n_l = 2 ## clock register\n",
    "n_b = 1 ## input vector"
   ]
  },
  {
   "cell_type": "code",
   "execution_count": null,
   "metadata": {},
   "outputs": [],
   "source": [
    "###### defense for ancilla"
   ]
  },
  {
   "cell_type": "code",
   "execution_count": 6,
   "metadata": {},
   "outputs": [
    {
     "data": {
      "text/plain": [
       "<qiskit.circuit.instructionset.InstructionSet at 0x7faa21326cb0>"
      ]
     },
     "execution_count": 6,
     "metadata": {},
     "output_type": "execute_result"
    }
   ],
   "source": [
    "ancilla = QuantumRegister(n_a, name='ancilla')\n",
    "new_ancilla = QuantumRegister(n_a_new, name='new_ancilla')\n",
    "b = QuantumRegister(n_b, name='b')\n",
    "clock = QuantumRegister(n_l, name='clock')\n",
    "ancilla_measurement = ClassicalRegister(2, name='c_ancilla')\n",
    "b_measurement = ClassicalRegister(1, name='c_b')\n",
    "\n",
    "hhl = QuantumCircuit(ancilla, new_ancilla, clock, b, ancilla_measurement, b_measurement)\n",
    "initial_layout = [0, 1, 2, 14, 3]\n",
    "\n",
    "hhl.barrier()\n",
    "##### attack area\n",
    "\n",
    "# hhl.x(ancilla)\n",
    "# hhl.append(x12_gate, [0])\n",
    "# hhl.add_calibration(x12_gate, (0,), x12_sched, [])\n",
    "hhl.barrier()\n",
    "\n",
    "##### defense for ancilla, part 1\n",
    "hhl.x(new_ancilla)\n",
    "hhl.barrier()\n",
    "\n",
    "##### hhl\n",
    "hhl.x(b)\n",
    "hhl.h(clock)\n",
    "hhl.cu(-pi/2, -pi/2, pi/2, 3/4*pi, clock[0], b, label='U')\n",
    "hhl.cu(pi, 0, pi, 0, clock[1], b, label=r'$U^2$')\n",
    "# hhl.barrier()\n",
    "hhl.h(clock[1])\n",
    "hhl.cp(-np.pi/2, clock[0], clock[1])\n",
    "hhl.h(clock[0])\n",
    "hhl.swap(clock[0], clock[1])\n",
    "hhl.barrier()\n",
    "hhl.cry(pi, clock[0], ancilla)\n",
    "hhl.cry(pi/3, clock[1], ancilla)\n",
    "hhl.barrier()\n",
    "\n",
    "\n",
    "#### measurement and defense for ancilla part 2\n",
    "hhl.cx(ancilla, new_ancilla)\n",
    "hhl.measure(ancilla, ancilla_measurement[0])\n",
    "hhl.measure(new_ancilla, ancilla_measurement[1])\n",
    "hhl.barrier()\n",
    "\n",
    "\n",
    "##### hhl\n",
    "hhl.swap(clock[0], clock[1])\n",
    "hhl.h(clock[0])\n",
    "hhl.cp(np.pi/2, clock[0], clock[1])\n",
    "hhl.h(clock[1])\n",
    "# hhl.barrier()\n",
    "hhl.cu(pi, 0, pi, 0, clock[1], b, label=r'$U^2$ inv')\n",
    "hhl.cu(-pi/2, pi/2, -pi/2, -3/4*pi, clock[0], b, label='U inv')\n",
    "hhl.h(clock)\n",
    "hhl.barrier()\n",
    "hhl.measure(b,b_measurement)"
   ]
  },
  {
   "cell_type": "code",
   "execution_count": null,
   "metadata": {},
   "outputs": [],
   "source": [
    "####### defense for b"
   ]
  },
  {
   "cell_type": "code",
   "execution_count": 10,
   "metadata": {},
   "outputs": [
    {
     "data": {
      "text/plain": [
       "<qiskit.circuit.instructionset.InstructionSet at 0x7fcdc1a1d0c0>"
      ]
     },
     "execution_count": 10,
     "metadata": {},
     "output_type": "execute_result"
    }
   ],
   "source": [
    "ancilla = QuantumRegister(n_a, name='ancilla')\n",
    "new_ancilla = QuantumRegister(n_a_new, name='new_ancilla')\n",
    "b = QuantumRegister(n_b, name='b')\n",
    "clock = QuantumRegister(n_l, name='clock')\n",
    "ancilla_measurement_2 = ClassicalRegister(1, name='c_ancilla_2')\n",
    "b_measurement = ClassicalRegister(1, name='c_b')\n",
    "ancilla_measurement_1 = ClassicalRegister(2, name='c_ancilla_1')\n",
    "\n",
    "initial_layout = [0, 1, 2, 14, 3]\n",
    "\n",
    "hhl = QuantumCircuit(ancilla, clock, new_ancilla, b, ancilla_measurement_1, ancilla_measurement_2, b_measurement)\n",
    "hhl.barrier()\n",
    "\n",
    "\n",
    "#### attack area\n",
    "# # # ## Put pulse on ancilla, ancilla is mapped to qubit 0 in the hardware\n",
    "# hhl.x(ancilla)\n",
    "# hhl.append(x12_gate, [0])\n",
    "# hhl.add_calibration(x12_gate, (0,), x12_sched, [])\n",
    "hhl.barrier()\n",
    "\n",
    "###### defense for b\n",
    "hhl.cx(b, ancilla)\n",
    "hhl.x(b)\n",
    "hhl.x(new_ancilla)\n",
    "hhl.cx(b, new_ancilla)\n",
    "hhl.x(b)\n",
    "hhl.measure(ancilla, ancilla_measurement_1[0])\n",
    "hhl.measure(new_ancilla, ancilla_measurement_1[1])\n",
    "hhl.reset(ancilla)\n",
    "hhl.reset(new_ancilla)\n",
    "hhl.barrier()\n",
    "\n",
    "\n",
    "##### hhl QPE\n",
    "# hhl.barrier()\n",
    "hhl.x(b)\n",
    "hhl.barrier()\n",
    "hhl.h(clock)\n",
    "hhl.cu(-pi/2, -pi/2, pi/2, 3/4*pi, clock[0], b, label='U')\n",
    "hhl.cu(pi, 0, pi, 0, clock[1], b, label=r'$U^2$')\n",
    "\n",
    "##### hhl IQFT\n",
    "# hhl.barrier()\n",
    "hhl.h(clock[1])\n",
    "hhl.cp(-np.pi/2, clock[0], clock[1])\n",
    "hhl.h(clock[0])\n",
    "hhl.swap(clock[0], clock[1])\n",
    "hhl.barrier()\n",
    "\n",
    "###### hhl controled rotation\n",
    "hhl.cry(pi, clock[0], ancilla)\n",
    "hhl.cry(pi/3, clock[1], ancilla)\n",
    "hhl.barrier()\n",
    "\n",
    "##### ancilla measurement\n",
    "hhl.measure(ancilla, ancilla_measurement_2)\n",
    "hhl.barrier()\n",
    "\n",
    "#### hhl QFT\n",
    "hhl.swap(clock[0], clock[1])\n",
    "hhl.h(clock[0])\n",
    "hhl.cp(np.pi/2, clock[0], clock[1])\n",
    "hhl.h(clock[1])\n",
    "\n",
    "##### hhl IQPE\n",
    "# hhl.barrier()\n",
    "hhl.cu(pi, 0, pi, 0, clock[1], b, label=r'$U^2$ inv')\n",
    "hhl.cu(-pi/2, pi/2, -pi/2, -3/4*pi, clock[0], b, label='U inv')\n",
    "hhl.h(clock)\n",
    "hhl.barrier()\n",
    "\n",
    "###### b measurement\n",
    "hhl.measure(b,b_measurement)"
   ]
  },
  {
   "cell_type": "code",
   "execution_count": null,
   "metadata": {},
   "outputs": [],
   "source": [
    "####### defense for clock\n",
    "####### just add measure to clock after hhl"
   ]
  },
  {
   "cell_type": "code",
   "execution_count": null,
   "metadata": {},
   "outputs": [],
   "source": [
    "###### all defense"
   ]
  },
  {
   "cell_type": "code",
   "execution_count": 12,
   "metadata": {},
   "outputs": [
    {
     "data": {
      "text/plain": [
       "<qiskit.circuit.instructionset.InstructionSet at 0x7fda211bca00>"
      ]
     },
     "execution_count": 12,
     "metadata": {},
     "output_type": "execute_result"
    }
   ],
   "source": [
    "ancilla = QuantumRegister(n_a, name='ancilla')\n",
    "new_ancilla = QuantumRegister(n_a_new, name='new_ancilla')\n",
    "b = QuantumRegister(n_b, name='b')\n",
    "clock = QuantumRegister(n_l, name='clock')\n",
    "ancilla_measurement_2 = ClassicalRegister(2, name='c_ancilla_2')\n",
    "b_measurement = ClassicalRegister(1, name='c_b')\n",
    "ancilla_measurement_1 = ClassicalRegister(2, name='c_ancilla_1')\n",
    "clock_measurement = ClassicalRegister(2, name='c_clock')\n",
    "\n",
    "initial_layout = [0, 1, 2, 14, 3]\n",
    "\n",
    "hhl = QuantumCircuit(ancilla, clock, new_ancilla, b, ancilla_measurement_1, ancilla_measurement_2, b_measurement, clock_measurement)\n",
    "hhl.barrier()\n",
    "\n",
    "\n",
    "#### attack area\n",
    "# # ## Put pulse on ancilla, ancilla is mapped to qubit 0 in the hardware\n",
    "hhl.x(ancilla)\n",
    "hhl.append(x12_gate, [0])\n",
    "hhl.add_calibration(x12_gate, (0,), x12_sched, [])\n",
    "hhl.barrier()\n",
    "\n",
    "###### defense for b\n",
    "hhl.cx(b, ancilla)\n",
    "hhl.x(b)\n",
    "hhl.x(new_ancilla)\n",
    "hhl.cx(b, new_ancilla)\n",
    "hhl.x(b)\n",
    "hhl.measure(ancilla, ancilla_measurement_1[0])\n",
    "hhl.measure(new_ancilla, ancilla_measurement_1[1])\n",
    "hhl.reset(ancilla)\n",
    "hhl.reset(new_ancilla)\n",
    "hhl.barrier()\n",
    "\n",
    "# set new ancilla to 1\n",
    "#####defense for ancilla\n",
    "hhl.x(new_ancilla)\n",
    "\n",
    "\n",
    "##### hhl QPE\n",
    "hhl.barrier()\n",
    "hhl.x(b)\n",
    "hhl.barrier()\n",
    "hhl.h(clock)\n",
    "hhl.cu(-pi/2, -pi/2, pi/2, 3/4*pi, clock[0], b, label='U')\n",
    "hhl.cu(pi, 0, pi, 0, clock[1], b, label=r'$U^2$')\n",
    "\n",
    "##### hhl IQFT\n",
    "hhl.barrier()\n",
    "hhl.h(clock[1])\n",
    "hhl.cp(-np.pi/2, clock[0], clock[1])\n",
    "hhl.h(clock[0])\n",
    "hhl.swap(clock[0], clock[1])\n",
    "hhl.barrier()\n",
    "\n",
    "###### hhl controled rotation\n",
    "hhl.cry(pi, clock[0], ancilla)\n",
    "hhl.cry(pi/3, clock[1], ancilla)\n",
    "hhl.barrier()\n",
    "\n",
    "##### defense for ancilla & ancilla measurement\n",
    "# add CNOT on two ancillas and measure\n",
    "hhl.cx(ancilla, new_ancilla)\n",
    "hhl.measure(ancilla, ancilla_measurement_2[0])\n",
    "hhl.measure(new_ancilla, ancilla_measurement_2[1])\n",
    "hhl.barrier()\n",
    "\n",
    "#### hhl QFT\n",
    "hhl.swap(clock[0], clock[1])\n",
    "hhl.h(clock[0])\n",
    "hhl.cp(np.pi/2, clock[0], clock[1])\n",
    "hhl.h(clock[1])\n",
    "\n",
    "##### hhl IQPE\n",
    "hhl.barrier()\n",
    "hhl.cu(pi, 0, pi, 0, clock[1], b, label=r'$U^2$ inv')\n",
    "hhl.cu(-pi/2, pi/2, -pi/2, -3/4*pi, clock[0], b, label='U inv')\n",
    "hhl.h(clock)\n",
    "hhl.barrier()\n",
    "\n",
    "###### b measurement\n",
    "hhl.measure(b,b_measurement)\n",
    "\n",
    "\n",
    "##### defense for clock\n",
    "hhl.barrier()\n",
    "hhl.measure(clock[0], clock_measurement[0])\n",
    "hhl.measure(clock[1], clock_measurement[1])"
   ]
  },
  {
   "cell_type": "code",
   "execution_count": 7,
   "metadata": {},
   "outputs": [
    {
     "data": {
      "image/png": "[encoded data removed]",
      "text/plain": [
       "<Figure size 1600x800 with 1 Axes>"
      ]
     },
     "metadata": {},
     "output_type": "display_data"
    }
   ],
   "source": [
    "fig = plt.figure(figsize=(16, 8))\n",
    "ax = fig.add_subplot()\n",
    "height = 0.8\n",
    "# ax.text(0.5, height, 'Higher energy', size=8)\n",
    "# ax.text(4.5, height, 'QPE', size=8)\n",
    "# ax.text(10, height, 'Inverse QFT', size=8)\n",
    "# ax.text(14, height, 'Controlled Rotation', size=8)\n",
    "# ax.text(4, -5.5, 'QFT', size=8)\n",
    "# ax.text(10, -5.5, 'Inverse QPE', size=8)\n",
    "hhl.draw('mpl', ax=ax, fold=1)"
   ]
  }
 ],
 "metadata": {
  "kernelspec": {
   "display_name": "qiskit",
   "language": "python",
   "name": "python3"
  },
  "language_info": {
   "codemirror_mode": {
    "name": "ipython",
    "version": 3
   },
   "file_extension": ".py",
   "mimetype": "text/x-python",
   "name": "python",
   "nbconvert_exporter": "python",
   "pygments_lexer": "ipython3",
   "version": "3.10.14"
  }
 },
 "nbformat": 4,
 "nbformat_minor": 2
}
