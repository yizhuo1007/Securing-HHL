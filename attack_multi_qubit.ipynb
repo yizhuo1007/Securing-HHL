{
  "cells": [
    {
      "cell_type": "code",
      "execution_count": 28,
      "metadata": {
        "id": "XQ2N0rz17C8C"
      },
      "outputs": [],
      "source": [
        "from qiskit import QuantumCircuit, transpile\n",
        "from qiskit.providers.basic_provider import BasicProvider\n",
        "from qiskit.visualization import plot_histogram\n",
        "from qiskit import QuantumRegister, ClassicalRegister\n",
        "from qiskit.quantum_info import Statevector\n",
        "from matplotlib import pyplot as plt\n",
        "from pylatexenc import *\n",
        "from qiskit.circuit.library import QFT\n",
        "import numpy as np\n",
        "from numpy import pi\n",
        "from matplotlib import pyplot as plt\n",
        "import math\n",
        "from scipy.optimize import curve_fit\n",
        "from sklearn.discriminant_analysis import LinearDiscriminantAnalysis\n",
        "from sklearn.model_selection import train_test_split\n",
        "from qiskit import pulse                 \n",
        "from qiskit.circuit import Parameter, Gate\n",
        "import qiskit_ibm_provider\n",
        "from qiskit_ibm_provider import IBMProvider\n",
        "from qiskit_ibm_provider.job import job_monitor\n",
        "from qiskit_ibm_runtime import QiskitRuntimeService\n",
        "from qiskit_ibm_runtime import QiskitRuntimeService, Sampler, Estimator, Session, Options"
      ]
    },
    {
      "cell_type": "code",
      "execution_count": 29,
      "metadata": {},
      "outputs": [],
      "source": [
        "# Save an IBM Quantum account.\n",
        "QiskitRuntimeService.save_account(channel=\"ibm_quantum\", token=\"999e14a533a70658d88ba22c2b21691e16596147bb012cb26fcaa1aba4212f236c0445bef5a8df0648de4adbeb2048db94855ba9d1e9b0c57ed998d13c87cf97\",overwrite=True)"
      ]
    },
    {
      "cell_type": "code",
      "execution_count": 30,
      "metadata": {},
      "outputs": [],
      "source": [
        "# # Loading your IBM Quantum account(s)\n",
        "service = QiskitRuntimeService(channel=\"ibm_quantum\")"
      ]
    },
    {
      "cell_type": "code",
      "execution_count": 31,
      "metadata": {},
      "outputs": [],
      "source": [
        "# Choose your backend\n",
        "provider = IBMProvider()\n",
        "backend_name = 'ibm_brisbane'\n",
        "backend = provider.get_backend(backend_name)\n",
        "\n",
        "backend_defaults = backend.defaults()\n",
        "\n",
        "backend_properties = backend.properties()"
      ]
    },
    {
      "cell_type": "code",
      "execution_count": 6,
      "metadata": {},
      "outputs": [],
      "source": [
        "# unit conversion factors -> all backend properties returned in SI (Hz, sec, etc.)\n",
        "GHz = 1.0e9 # Gigahertz\n",
        "MHz = 1.0e6 # Megahertz\n",
        "us = 1.0e-6 # Microseconds\n",
        "ns = 1.0e-9 # Nanoseconds\n",
        "\n",
        "# qubit = 0 # qubit we will analyze\n",
        "\n",
        "# default_qubit_freq = backend_defaults.qubit_freq_est[qubit] # Default qubit frequency in Hz. \n",
        "# print(f\"Qubit {qubit} has an estimated frequency of {default_qubit_freq/ GHz} GHz.\")\n",
        "\n",
        "# default_anharmonicity = backend_properties.qubits[qubit][3].value # Default anharmonicity in GHz\n",
        "# print(f\"Default anharmonicity is {default_anharmonicity} GHz.\")\n",
        "\n",
        "# scale data (specific to each device)\n",
        "scale_factor = 1e-7\n",
        "\n",
        "# number of shots for our experiments\n",
        "NUM_SHOTS = 1024"
      ]
    },
    {
      "cell_type": "code",
      "execution_count": 7,
      "metadata": {},
      "outputs": [],
      "source": [
        "# there are pulse parameters of the single qubit drive in IBM devices\n",
        "x12_duration = 160\n",
        "x12_sigma = 40"
      ]
    },
    {
      "cell_type": "code",
      "execution_count": 9,
      "metadata": {
        "id": "GOuE51V08blY"
      },
      "outputs": [],
      "source": [
        "n_a = 1 ## ancilla\n",
        "n_l = 2 ## clock register\n",
        "n_b = 1 ## input vector"
      ]
    },
    {
      "cell_type": "code",
      "execution_count": 8,
      "metadata": {},
      "outputs": [],
      "source": [
        "## Build 1->2 pulse\n",
        "##### qubit 0\n",
        "qubit_0 = 0\n",
        "qubit_12_freq_0 = 4409711500\n",
        "pi_amp_12_0 = 0.2466186343423263\n",
        "with pulse.build(backend=backend, default_alignment='sequential', name='x12 schedule') as x12_sched:\n",
        "    drive_chan = pulse.drive_channel(qubit_0)\n",
        "    pulse.set_frequency(qubit_12_freq_0, drive_chan)\n",
        "    pulse.play(pulse.Gaussian(duration=x12_duration,\n",
        "                              amp=pi_amp_12_0,\n",
        "                              sigma=x12_sigma,\n",
        "                              name='x12_pulse_0'), drive_chan)\n",
        "x12_gate_0 = Gate(\"one_two_pulse_0\", 1, [])\n",
        "\n",
        "##### qubit 1\n",
        "qubit_1 = 1\n",
        "qubit_12_freq_1 = 4504845854.32135\n",
        "pi_amp_12_1 = 0.182084812226004\n",
        "with pulse.build(backend=backend, default_alignment='sequential', name='x12 schedule') as x12_sched:\n",
        "    drive_chan = pulse.drive_channel(qubit_1)\n",
        "    pulse.set_frequency(qubit_12_freq_1, drive_chan)\n",
        "    pulse.play(pulse.Gaussian(duration=x12_duration,\n",
        "                              amp=pi_amp_12_1,\n",
        "                              sigma=x12_sigma,\n",
        "                              name='x12_pulse_1'), drive_chan)\n",
        "x12_gate_1 = Gate(\"one_two_pulse_1\", 1, [])\n",
        "\n",
        "##### qubit 3\n",
        "qubit_3 = 3\n",
        "qubit_12_freq_3 = 4568093136.12542\n",
        "pi_amp_12_3 = 0.145885945170108\n",
        "with pulse.build(backend=backend, default_alignment='sequential', name='x12 schedule') as x12_sched:\n",
        "    drive_chan = pulse.drive_channel(qubit_3)\n",
        "    pulse.set_frequency(qubit_12_freq_3, drive_chan)\n",
        "    pulse.play(pulse.Gaussian(duration=x12_duration,\n",
        "                              amp=pi_amp_12_3,\n",
        "                              sigma=x12_sigma,\n",
        "                              name='x12_pulse_3'), drive_chan)\n",
        "x12_gate_3 = Gate(\"one_two_pulse_3\", 1, [])\n",
        "\n",
        "##### qubit 14\n",
        "qubit_14 = 14\n",
        "qubit_12_freq_14 = 4594199368.95581\n",
        "pi_amp_12_14 = 0.18205594367142\n",
        "with pulse.build(backend=backend, default_alignment='sequential', name='x12 schedule') as x12_sched:\n",
        "    drive_chan = pulse.drive_channel(qubit_14)\n",
        "    pulse.set_frequency(qubit_12_freq_14, drive_chan)\n",
        "    pulse.play(pulse.Gaussian(duration=x12_duration,\n",
        "                              amp=pi_amp_12_14,\n",
        "                              sigma=x12_sigma,\n",
        "                              name='x12_pulse_14'), drive_chan)\n",
        "x12_gate_14 = Gate(\"one_two_pulse_14\", 1, [])"
      ]
    },
    {
      "cell_type": "code",
      "execution_count": 35,
      "metadata": {
        "colab": {
          "base_uri": "https://localhost:8080/"
        },
        "id": "fkvYO05H8qQq",
        "outputId": "335f7d6c-9703-43b8-d159-c00663bbd2f6"
      },
      "outputs": [
        {
          "data": {
            "text/plain": [
              "<qiskit.circuit.instructionset.InstructionSet at 0x7fabd1c64130>"
            ]
          },
          "execution_count": 35,
          "metadata": {},
          "output_type": "execute_result"
        }
      ],
      "source": [
        "ancilla = QuantumRegister(n_a, name='ancilla')\n",
        "# clock = QuantumRegister(n_l, name='clock')\n",
        "clock0 = QuantumRegister(1, name='clock0')\n",
        "clock1 = QuantumRegister(1, name='clock1')\n",
        "b = QuantumRegister(n_b, name='b')\n",
        "buffer2 = QuantumRegister(1, name='buffer2')\n",
        "buffer4_13 = QuantumRegister(10, name='buffer4_13')\n",
        "measurement = ClassicalRegister(2, name='c')\n",
        "\n",
        "\n",
        "# initial_layout = [0, 1, 2, 3]\n",
        "initial_layout = [0, 1, 2, 3, 4, 5, 6, 7, 8, 9, 10, 11, 12, 13, 14]\n",
        "\n",
        "# hhl = QuantumCircuit(b, clock, ancilla, measurement)\n",
        "hhl = QuantumCircuit(clock0, clock1, buffer2, b, buffer4_13, ancilla, measurement)\n",
        "\n",
        "hhl.barrier()\n",
        "\n",
        "\n",
        "hhl.x(clock0)\n",
        "# hhl.append(x12_gate_0, [0])\n",
        "# hhl.add_calibration(x12_gate_0, (0,), x12_sched, [])\n",
        "\n",
        "hhl.x(clock1)\n",
        "# hhl.append(x12_gate_1, [1])\n",
        "# hhl.add_calibration(x12_gate_1, (1,), x12_sched, [])\n",
        "\n",
        "hhl.x(b)\n",
        "# hhl.append(x12_gate_3, [3])\n",
        "# hhl.add_calibration(x12_gate_3, (3,), x12_sched, [])\n",
        "\n",
        "hhl.x(ancilla)\n",
        "# hhl.append(x12_gate_14, [14])\n",
        "# hhl.add_calibration(x12_gate_14, (14,), x12_sched, [])\n",
        "\n",
        "hhl.barrier()\n",
        "hhl.x(b)\n",
        "hhl.barrier()\n",
        "hhl.h(clock0)\n",
        "hhl.h(clock1)\n",
        "hhl.cu(-pi/2, -pi/2, pi/2, 3/4*pi, clock0, b, label='U')\n",
        "hhl.cu(pi, 0, pi, 0, clock1, b, label=r'$U^2$')\n",
        "hhl.barrier()\n",
        "hhl.h(clock1)\n",
        "hhl.cp(-np.pi/2, clock0, clock1)\n",
        "hhl.h(clock0)\n",
        "hhl.swap(clock0, clock1)\n",
        "hhl.barrier(label='$\\psi_2$')\n",
        "hhl.cry(pi, clock0, ancilla)\n",
        "hhl.cry(pi/3, clock1, ancilla)\n",
        "hhl.barrier()\n",
        "hhl.measure(ancilla, measurement[0])\n",
        "hhl.barrier()\n",
        "hhl.swap(clock0, clock1)\n",
        "hhl.h(clock0)\n",
        "hhl.cp(np.pi/2, clock0, clock1)\n",
        "hhl.h(clock1)\n",
        "hhl.barrier()\n",
        "hhl.cu(pi, 0, pi, 0, clock1, b, label=r'$U^2$ inv')\n",
        "hhl.cu(-pi/2, pi/2, -pi/2, -3/4*pi, clock0, b, label='U inv')\n",
        "hhl.h(clock0)\n",
        "hhl.h(clock1)\n",
        "hhl.barrier()\n",
        "hhl.measure(b,measurement[1])"
      ]
    },
    {
      "cell_type": "code",
      "execution_count": 36,
      "metadata": {},
      "outputs": [
        {
          "data": {
            "image/png": "[encoded data removed]",
            "text/plain": [
              "<Figure size 2268.23x953.167 with 1 Axes>"
            ]
          },
          "execution_count": 36,
          "metadata": {},
          "output_type": "execute_result"
        }
      ],
      "source": [
        "hhl.draw('mpl', idle_wires=False)"
      ]
    },
    {
      "cell_type": "code",
      "execution_count": 18,
      "metadata": {
        "colab": {
          "base_uri": "https://localhost:8080/",
          "height": 660
        },
        "id": "lq6Z8PQn-Wh7",
        "outputId": "95c8e940-b73c-4be5-f36d-e87014455b95"
      },
      "outputs": [],
      "source": [
        "# fig=hhl.draw('mpl', fold=1)\n",
        "# fig.savefig('circuit_improper_initialization_attack.pdf', bbox_inches='tight')"
      ]
    },
    {
      "cell_type": "code",
      "execution_count": 37,
      "metadata": {},
      "outputs": [],
      "source": [
        "nShots = 10000\n",
        "# hhl_tr = transpile(hhl, backend, layout_method='trivial', optimization_level=0)\n",
        "hhl_tr = transpile(hhl, backend, initial_layout=initial_layout, optimization_level=0)\n",
        "# hhl_tr.draw(output='mpl', idle_wires=False)"
      ]
    },
    {
      "cell_type": "code",
      "execution_count": 40,
      "metadata": {},
      "outputs": [
        {
          "data": {
            "text/plain": [
              "'cw86gf9bhxtg008wkgp0'"
            ]
          },
          "execution_count": 40,
          "metadata": {},
          "output_type": "execute_result"
        }
      ],
      "source": [
        "# job = backend.run([hhl_tr], \n",
        "#                   meas_level=2, \n",
        "#                   meas_return='single', \n",
        "#                   shots=nShots)\n",
        "# # job_monitor(job)\n",
        "# job.job_id()"
      ]
    },
    {
      "cell_type": "code",
      "execution_count": 47,
      "metadata": {},
      "outputs": [],
      "source": [
        "# # job_id = \"cv8bsxqqrk1g008r07b0\"\n",
        "# # job = service.job(job_id)\n",
        "# job_monitor(job)"
      ]
    },
    {
      "cell_type": "code",
      "execution_count": 59,
      "metadata": {},
      "outputs": [],
      "source": [
        "def calculate_counts_mean(counts):\n",
        "    keys=[f'{i>>5:02b} {(i>>4)%2:b} {(i>>2)%4:02b} {i%4:02b}' for i in range(128)]\n",
        "    values=np.array([[count[key] if key in count else 0 for count in counts] for key in keys])\n",
        "    return np.mean(values,axis=1)\n",
        "\n",
        "def calculate_variational_distance_from_values(values1, values2):\n",
        "    #values=np.array([[counts1[key],counts2[key]] for key in counts1],dtype=np.float64)\n",
        "    values1/=np.sum(values1)\n",
        "    values2/=np.sum(values2)\n",
        "    return np.sum(np.abs(values1-values2))/2"
      ]
    },
    {
      "cell_type": "code",
      "execution_count": 50,
      "metadata": {},
      "outputs": [],
      "source": [
        "jobids_HEA=[\"cw59fsq6f0t000872npg\", \"cw59fwf19rzg008tjx80\", \"cw59fxf19rzg008tjx8g\"]\n",
        "jobids_IIA=[\"cw86ge12802g0081fmf0\", \"cw86gesggr6g0087m8sg\", \"cw86gf9bhxtg008wkgp0\"]\n",
        "jobids_non=[\"cw4aexkvka8g008bk23g\", \"cw4afky79ws0008zc8yg\", \"cw4afwf54nq0008xfhg0\"]\n",
        "counts_HEA = [service.job(jobid).result().get_counts() for jobid in jobids_HEA]\n",
        "counts_IIA = [service.job(jobid).result().get_counts() for jobid in jobids_IIA]\n",
        "counts_non = [service.job(jobid).result().get_counts() for jobid in jobids_non]"
      ]
    },
    {
      "cell_type": "code",
      "execution_count": 58,
      "metadata": {},
      "outputs": [
        {
          "name": "stderr",
          "output_type": "stream",
          "text": [
            "/var/folders/h3/mc63pl7x7kb9s61dxd7795jc0000gn/T/ipykernel_27606/1811518729.py:8: RuntimeWarning: invalid value encountered in divide\n",
            "  values1/=np.sum(values1)\n",
            "/var/folders/h3/mc63pl7x7kb9s61dxd7795jc0000gn/T/ipykernel_27606/1811518729.py:9: RuntimeWarning: invalid value encountered in divide\n",
            "  values2/=np.sum(values2)\n"
          ]
        },
        {
          "data": {
            "text/plain": [
              "nan"
            ]
          },
          "execution_count": 58,
          "metadata": {},
          "output_type": "execute_result"
        }
      ],
      "source": [
        "calculate_variational_distance_from_values(calculate_counts_mean(counts_HEA),calculate_counts_mean(counts_non))\n",
        "# calculate_variational_distance_from_values(calculate_counts_mean(counts_IIA),calculate_counts_mean(counts_non))"
      ]
    },
    {
      "cell_type": "code",
      "execution_count": 43,
      "metadata": {},
      "outputs": [
        {
          "name": "stdout",
          "output_type": "stream",
          "text": [
            "1.1873315363881403\n"
          ]
        },
        {
          "data": {
            "image/png": "[encoded data removed]",
            "text/plain": [
              "<Figure size 700x500 with 1 Axes>"
            ]
          },
          "execution_count": 43,
          "metadata": {},
          "output_type": "execute_result"
        }
      ],
      "source": [
        "##### hhl, hea on 4 qubits\n",
        "job_id = \"cw59fsq6f0t000872npg\"\n",
        "# job_id = \"cw59fwf19rzg008tjx80\"\n",
        "# job_id = \"cw59fxf19rzg008tjx8g\"\n",
        "job = service.job(job_id)\n",
        "result = job.result()\n",
        "counts = result.get_counts()\n",
        "print((counts['11'])/(counts['01']))\n",
        "plot_histogram(counts)\n",
        "# fig = plot_histogram(counts)\n",
        "# fig.savefig('hea_4_qubits.pdf', bbox_inches='tight')"
      ]
    },
    {
      "cell_type": "code",
      "execution_count": 63,
      "metadata": {},
      "outputs": [
        {
          "name": "stdout",
          "output_type": "stream",
          "text": [
            "1.3185108583247156\n"
          ]
        },
        {
          "data": {
            "image/png": "[encoded data removed]",
            "text/plain": [
              "<Figure size 700x500 with 1 Axes>"
            ]
          },
          "execution_count": 63,
          "metadata": {},
          "output_type": "execute_result"
        }
      ],
      "source": [
        "##### hhl, iia on 4 qubits\n",
        "job_id = \"cw86ge12802g0081fmf0\"\n",
        "# job_id = \"cw86gesggr6g0087m8sg\"\n",
        "# job_id = \"cw86gf9bhxtg008wkgp0\"\n",
        "job = service.job(job_id)\n",
        "result = job.result()\n",
        "counts = result.get_counts()\n",
        "print((counts['11'])/(counts['01']))\n",
        "plot_histogram(counts)\n",
        "# fig = plot_histogram(counts)\n",
        "# fig.savefig('iia_4_qubits.pdf', bbox_inches='tight')"
      ]
    },
    {
      "cell_type": "code",
      "execution_count": null,
      "metadata": {},
      "outputs": [
        {
          "data": {
            "text/plain": [
              "<qiskit.circuit.instructionset.InstructionSet at 0x7fabd1c64130>"
            ]
          },
          "metadata": {},
          "output_type": "display_data"
        }
      ],
      "source": [
        "ancilla = QuantumRegister(n_a, name='ancilla')\n",
        "# clock = QuantumRegister(n_l, name='clock')\n",
        "clock0 = QuantumRegister(1, name='clock0')\n",
        "clock1 = QuantumRegister(1, name='clock1')\n",
        "b = QuantumRegister(n_b, name='b')\n",
        "buffer2 = QuantumRegister(1, name='buffer2')\n",
        "buffer4_13 = QuantumRegister(10, name='buffer4_13')\n",
        "measurement = ClassicalRegister(2, name='c')\n",
        "\n",
        "\n",
        "# initial_layout = [0, 1, 2, 3]\n",
        "initial_layout = [0, 1, 2, 3, 4, 5, 6, 7, 8, 9, 10, 11, 12, 13, 14]\n",
        "\n",
        "# hhl = QuantumCircuit(b, clock, ancilla, measurement)\n",
        "hhl = QuantumCircuit(clock0, clock1, buffer2, b, buffer4_13, ancilla, measurement)\n",
        "\n",
        "hhl.barrier()\n",
        "\n",
        "\n",
        "hhl.x(clock0)\n",
        "# hhl.append(x12_gate_0, [0])\n",
        "# hhl.add_calibration(x12_gate_0, (0,), x12_sched, [])\n",
        "\n",
        "hhl.x(clock1)\n",
        "# hhl.append(x12_gate_1, [1])\n",
        "# hhl.add_calibration(x12_gate_1, (1,), x12_sched, [])\n",
        "\n",
        "hhl.x(b)\n",
        "# hhl.append(x12_gate_3, [3])\n",
        "# hhl.add_calibration(x12_gate_3, (3,), x12_sched, [])\n",
        "\n",
        "hhl.x(ancilla)\n",
        "# hhl.append(x12_gate_14, [14])\n",
        "# hhl.add_calibration(x12_gate_14, (14,), x12_sched, [])\n",
        "\n",
        "hhl.barrier()\n",
        "hhl.x(b)\n",
        "hhl.barrier()\n",
        "hhl.h(clock0)\n",
        "hhl.h(clock1)\n",
        "hhl.cu(-pi/2, -pi/2, pi/2, 3/4*pi, clock0, b, label='U')\n",
        "hhl.cu(pi, 0, pi, 0, clock1, b, label=r'$U^2$')\n",
        "hhl.barrier()\n",
        "hhl.h(clock1)\n",
        "hhl.cp(-np.pi/2, clock0, clock1)\n",
        "hhl.h(clock0)\n",
        "hhl.swap(clock0, clock1)\n",
        "hhl.barrier(label='$\\psi_2$')\n",
        "hhl.cry(pi, clock0, ancilla)\n",
        "hhl.cry(pi/3, clock1, ancilla)\n",
        "hhl.barrier()\n",
        "hhl.measure(ancilla, measurement[0])\n",
        "hhl.barrier()\n",
        "hhl.swap(clock0, clock1)\n",
        "hhl.h(clock0)\n",
        "hhl.cp(np.pi/2, clock0, clock1)\n",
        "hhl.h(clock1)\n",
        "hhl.barrier()\n",
        "hhl.cu(pi, 0, pi, 0, clock1, b, label=r'$U^2$ inv')\n",
        "hhl.cu(-pi/2, pi/2, -pi/2, -3/4*pi, clock0, b, label='U inv')\n",
        "hhl.h(clock0)\n",
        "hhl.h(clock1)\n",
        "hhl.barrier()\n",
        "hhl.measure(b,measurement[1])"
      ]
    },
    {
      "cell_type": "code",
      "execution_count": null,
      "metadata": {},
      "outputs": [
        {
          "data": {
            "text/plain": [
              "<qiskit.circuit.instructionset.InstructionSet at 0x7fabd1c64130>"
            ]
          },
          "metadata": {},
          "output_type": "display_data"
        }
      ],
      "source": [
        "ancilla = QuantumRegister(n_a, name='ancilla')\n",
        "# clock = QuantumRegister(n_l, name='clock')\n",
        "clock0 = QuantumRegister(1, name='clock0')\n",
        "clock1 = QuantumRegister(1, name='clock1')\n",
        "b = QuantumRegister(n_b, name='b')\n",
        "buffer2 = QuantumRegister(1, name='buffer2')\n",
        "buffer4_13 = QuantumRegister(10, name='buffer4_13')\n",
        "measurement = ClassicalRegister(2, name='c')\n",
        "\n",
        "\n",
        "# initial_layout = [0, 1, 2, 3]\n",
        "initial_layout = [0, 1, 2, 3, 4, 5, 6, 7, 8, 9, 10, 11, 12, 13, 14]\n",
        "\n",
        "# hhl = QuantumCircuit(b, clock, ancilla, measurement)\n",
        "hhl = QuantumCircuit(clock0, clock1, buffer2, b, buffer4_13, ancilla, measurement)\n",
        "\n",
        "hhl.barrier()\n",
        "\n",
        "\n",
        "hhl.x(clock0)\n",
        "# hhl.append(x12_gate_0, [0])\n",
        "# hhl.add_calibration(x12_gate_0, (0,), x12_sched, [])\n",
        "\n",
        "hhl.x(clock1)\n",
        "# hhl.append(x12_gate_1, [1])\n",
        "# hhl.add_calibration(x12_gate_1, (1,), x12_sched, [])\n",
        "\n",
        "hhl.x(b)\n",
        "# hhl.append(x12_gate_3, [3])\n",
        "# hhl.add_calibration(x12_gate_3, (3,), x12_sched, [])\n",
        "\n",
        "hhl.x(ancilla)\n",
        "# hhl.append(x12_gate_14, [14])\n",
        "# hhl.add_calibration(x12_gate_14, (14,), x12_sched, [])\n",
        "\n",
        "hhl.barrier()\n",
        "hhl.x(b)\n",
        "hhl.barrier()\n",
        "hhl.h(clock0)\n",
        "hhl.h(clock1)\n",
        "hhl.cu(-pi/2, -pi/2, pi/2, 3/4*pi, clock0, b, label='U')\n",
        "hhl.cu(pi, 0, pi, 0, clock1, b, label=r'$U^2$')\n",
        "hhl.barrier()\n",
        "hhl.h(clock1)\n",
        "hhl.cp(-np.pi/2, clock0, clock1)\n",
        "hhl.h(clock0)\n",
        "hhl.swap(clock0, clock1)\n",
        "hhl.barrier(label='$\\psi_2$')\n",
        "hhl.cry(pi, clock0, ancilla)\n",
        "hhl.cry(pi/3, clock1, ancilla)\n",
        "hhl.barrier()\n",
        "hhl.measure(ancilla, measurement[0])\n",
        "hhl.barrier()\n",
        "hhl.swap(clock0, clock1)\n",
        "hhl.h(clock0)\n",
        "hhl.cp(np.pi/2, clock0, clock1)\n",
        "hhl.h(clock1)\n",
        "hhl.barrier()\n",
        "hhl.cu(pi, 0, pi, 0, clock1, b, label=r'$U^2$ inv')\n",
        "hhl.cu(-pi/2, pi/2, -pi/2, -3/4*pi, clock0, b, label='U inv')\n",
        "hhl.h(clock0)\n",
        "hhl.h(clock1)\n",
        "hhl.barrier()\n",
        "hhl.measure(b,measurement[1])"
      ]
    },
    {
      "cell_type": "code",
      "execution_count": null,
      "metadata": {},
      "outputs": [
        {
          "data": {
            "text/plain": [
              "<qiskit.circuit.instructionset.InstructionSet at 0x7fabd1c64130>"
            ]
          },
          "metadata": {},
          "output_type": "display_data"
        }
      ],
      "source": [
        "ancilla = QuantumRegister(n_a, name='ancilla')\n",
        "# clock = QuantumRegister(n_l, name='clock')\n",
        "clock0 = QuantumRegister(1, name='clock0')\n",
        "clock1 = QuantumRegister(1, name='clock1')\n",
        "b = QuantumRegister(n_b, name='b')\n",
        "buffer2 = QuantumRegister(1, name='buffer2')\n",
        "buffer4_13 = QuantumRegister(10, name='buffer4_13')\n",
        "measurement = ClassicalRegister(2, name='c')\n",
        "\n",
        "\n",
        "# initial_layout = [0, 1, 2, 3]\n",
        "initial_layout = [0, 1, 2, 3, 4, 5, 6, 7, 8, 9, 10, 11, 12, 13, 14]\n",
        "\n",
        "# hhl = QuantumCircuit(b, clock, ancilla, measurement)\n",
        "hhl = QuantumCircuit(clock0, clock1, buffer2, b, buffer4_13, ancilla, measurement)\n",
        "\n",
        "hhl.barrier()\n",
        "\n",
        "\n",
        "hhl.x(clock0)\n",
        "# hhl.append(x12_gate_0, [0])\n",
        "# hhl.add_calibration(x12_gate_0, (0,), x12_sched, [])\n",
        "\n",
        "hhl.x(clock1)\n",
        "# hhl.append(x12_gate_1, [1])\n",
        "# hhl.add_calibration(x12_gate_1, (1,), x12_sched, [])\n",
        "\n",
        "hhl.x(b)\n",
        "# hhl.append(x12_gate_3, [3])\n",
        "# hhl.add_calibration(x12_gate_3, (3,), x12_sched, [])\n",
        "\n",
        "hhl.x(ancilla)\n",
        "# hhl.append(x12_gate_14, [14])\n",
        "# hhl.add_calibration(x12_gate_14, (14,), x12_sched, [])\n",
        "\n",
        "hhl.barrier()\n",
        "hhl.x(b)\n",
        "hhl.barrier()\n",
        "hhl.h(clock0)\n",
        "hhl.h(clock1)\n",
        "hhl.cu(-pi/2, -pi/2, pi/2, 3/4*pi, clock0, b, label='U')\n",
        "hhl.cu(pi, 0, pi, 0, clock1, b, label=r'$U^2$')\n",
        "hhl.barrier()\n",
        "hhl.h(clock1)\n",
        "hhl.cp(-np.pi/2, clock0, clock1)\n",
        "hhl.h(clock0)\n",
        "hhl.swap(clock0, clock1)\n",
        "hhl.barrier(label='$\\psi_2$')\n",
        "hhl.cry(pi, clock0, ancilla)\n",
        "hhl.cry(pi/3, clock1, ancilla)\n",
        "hhl.barrier()\n",
        "hhl.measure(ancilla, measurement[0])\n",
        "hhl.barrier()\n",
        "hhl.swap(clock0, clock1)\n",
        "hhl.h(clock0)\n",
        "hhl.cp(np.pi/2, clock0, clock1)\n",
        "hhl.h(clock1)\n",
        "hhl.barrier()\n",
        "hhl.cu(pi, 0, pi, 0, clock1, b, label=r'$U^2$ inv')\n",
        "hhl.cu(-pi/2, pi/2, -pi/2, -3/4*pi, clock0, b, label='U inv')\n",
        "hhl.h(clock0)\n",
        "hhl.h(clock1)\n",
        "hhl.barrier()\n",
        "hhl.measure(b,measurement[1])"
      ]
    },
    {
      "cell_type": "code",
      "execution_count": 49,
      "metadata": {},
      "outputs": [
        {
          "name": "stdout",
          "output_type": "stream",
          "text": [
            "1.1045703839122487\n"
          ]
        }
      ],
      "source": [
        "##### hhl, no attack\n",
        "job_id = \"cw4aexkvka8g008bk23g\"\n",
        "#####job_id = \"cw4afaxrxqkg008ec5fg\"\n",
        "# job_id = \"cw4afky79ws0008zc8yg\"\n",
        "# job_id = \"cw4afwf54nq0008xfhg0\"\n",
        "#####job_id = \"cw4aewvjz3x0008jgwyg\"\n",
        "#### job_id = \"cw4aetv4v2e0008ssmpg\"\n",
        "job = service.job(job_id)\n",
        "result = job.result()\n",
        "counts = result.get_counts()\n",
        "print((counts['11'])/(counts['01']))\n",
        "# fig = plot_histogram(counts)\n",
        "# fig.savefig('hhl_no_attack.pdf', bbox_inches='tight')"
      ]
    },
    {
      "cell_type": "code",
      "execution_count": 161,
      "metadata": {},
      "outputs": [
        {
          "name": "stdout",
          "output_type": "stream",
          "text": [
            "1.036711891460495\n"
          ]
        }
      ],
      "source": [
        "##### a0, b1 (c02, c114)\n",
        "job_id = \"cw4aaga54nq0008xfh30\"\n",
        "# job_id = \"cw4ab4c4v2e0008ssmfg\"\n",
        "# job_id = \"cw4ab6m79ws0008zc8g0\"\n",
        "job = service.job(job_id)\n",
        "result = job.result()\n",
        "counts = result.get_counts()\n",
        "print((counts['11'])/(counts['01']))\n",
        "# fig = plot_histogram(counts)\n",
        "# fig.savefig('attack_b_c1.pdf', bbox_inches='tight')"
      ]
    },
    {
      "cell_type": "code",
      "execution_count": null,
      "metadata": {},
      "outputs": [
        {
          "name": "stdout",
          "output_type": "stream",
          "text": [
            "1.0165623849834375\n"
          ]
        }
      ],
      "source": [
        "###### c10, b1 (a14)\n",
        "job_id = \"cw4a7pe4v2e0008ssm6g\"\n",
        "# job_id = \"cw4a648jz3x0008jgwa0\"\n",
        "# job_id = \"cw4a69h4v2e0008ssm3g\"\n",
        "job = service.job(job_id)\n",
        "result = job.result()\n",
        "counts = result.get_counts()\n",
        "print((counts['11'])/(counts['01']))\n",
        "# fig = plot_histogram(counts)\n",
        "# fig.savefig('attack_b_c1.pdf', bbox_inches='tight')"
      ]
    },
    {
      "cell_type": "code",
      "execution_count": null,
      "metadata": {},
      "outputs": [
        {
          "name": "stdout",
          "output_type": "stream",
          "text": [
            "0.8771929824561403\n"
          ]
        }
      ],
      "source": [
        "###### c10, a1 (b14)\n",
        "# job_id = \"cw48e3854nq0008xfc00\"\n",
        "# job_id = \"cw48ecsjz3x0008jgqb0\"\n",
        "job_id = \"cw48eehjz3x0008jgqc0\"\n",
        "job = service.job(job_id)\n",
        "result = job.result()\n",
        "counts = result.get_counts()\n",
        "print((counts['11'])/(counts['01']))\n",
        "# fig = plot_histogram(counts)\n",
        "# fig.savefig('attack_a_c1.pdf', bbox_inches='tight')"
      ]
    },
    {
      "cell_type": "code",
      "execution_count": null,
      "metadata": {},
      "outputs": [
        {
          "name": "stdout",
          "output_type": "stream",
          "text": [
            "0.8771929824561403\n"
          ]
        }
      ],
      "source": [
        "###### c10, a1 (b14)\n",
        "# job_id = \"cw48e3854nq0008xfc00\"\n",
        "# job_id = \"cw48ecsjz3x0008jgqb0\"\n",
        "job_id = \"cw48eehjz3x0008jgqc0\"\n",
        "job = service.job(job_id)\n",
        "result = job.result()\n",
        "counts = result.get_counts()\n",
        "print((counts['11'])/(counts['01']))\n",
        "# fig = plot_histogram(counts)\n",
        "# fig.savefig('attack_a_c1.pdf', bbox_inches='tight')"
      ]
    },
    {
      "cell_type": "code",
      "execution_count": null,
      "metadata": {},
      "outputs": [
        {
          "name": "stdout",
          "output_type": "stream",
          "text": [
            "0.9414634146341463\n"
          ]
        }
      ],
      "source": [
        "###### b0, c01 (a14)\n",
        "job_id = \"cw485m6jz3x0008jgpkg\"\n",
        "# job_id = \"cw4862rrxqkg008ebzf0\"\n",
        "# job_id = \"cw4865854nq0008xfba0\"\n",
        "job = service.job(job_id)\n",
        "result = job.result()\n",
        "counts = result.get_counts()\n",
        "print((counts['11'])/(counts['01']))\n",
        "# fig = plot_histogram(counts)\n",
        "# fig.savefig('attack_b_c0.pdf', bbox_inches='tight')"
      ]
    },
    {
      "cell_type": "code",
      "execution_count": null,
      "metadata": {},
      "outputs": [
        {
          "name": "stdout",
          "output_type": "stream",
          "text": [
            "1.3507922535211268\n"
          ]
        }
      ],
      "source": [
        "###### a0, c01\n",
        "job_id = \"cw482mjvka8g008bjvt0\"\n",
        "# job_id = \"cw4837m4v2e0008sse70\"\n",
        "# job_id = \"cw4839njz3x0008jgpcg\"\n",
        "job = service.job(job_id)\n",
        "result = job.result()\n",
        "counts = result.get_counts()\n",
        "print((counts['11'])/(counts['01']))\n",
        "# fig = plot_histogram(counts)\n",
        "# fig.savefig('attack_a_c0.pdf', bbox_inches='tight')"
      ]
    },
    {
      "cell_type": "code",
      "execution_count": null,
      "metadata": {},
      "outputs": [
        {
          "name": "stdout",
          "output_type": "stream",
          "text": [
            "0.6544004906470408\n"
          ]
        }
      ],
      "source": [
        "###### c00,c11\n",
        "# job_id = \"cw47ezv54nq0008xf97g\"\n",
        "# job_id = \"cw47v8nrxqkg008eby8g\"\n",
        "job_id = \"cw47vbnrxqkg008eby90\"\n",
        "job = service.job(job_id)\n",
        "result = job.result()\n",
        "counts = result.get_counts()\n",
        "print((counts['11'])/(counts['01']))\n",
        "# fig = plot_histogram(counts)\n",
        "# fig.savefig('attack_c0_c1.pdf', bbox_inches='tight')"
      ]
    },
    {
      "cell_type": "code",
      "execution_count": null,
      "metadata": {},
      "outputs": [
        {
          "name": "stdout",
          "output_type": "stream",
          "text": [
            "0.7869865503453289\n"
          ]
        }
      ],
      "source": [
        "###### a0, b3(measure2)\n",
        "job_id = \"cw468f179ws0008zbx80\"\n",
        "job = service.job(job_id)\n",
        "result = job.result()\n",
        "counts = result.get_counts()\n",
        "print((counts['11'])/(counts['01']))\n",
        "# fig = "
      ]
    },
    {
      "cell_type": "code",
      "execution_count": 8,
      "metadata": {},
      "outputs": [
        {
          "name": "stdout",
          "output_type": "stream",
          "text": [
            "1.2604422604422605\n"
          ]
        }
      ],
      "source": [
        "###### job_id = \"cv8bt188gpc0008gegfg\"\n",
        "# job_id = \"cv8ebhe8gpc0008gem30\"\n",
        "######job_id = \"cv8emxvkfn8g008vp2wg\"\n",
        "# job_id = \"cv8eba58gpc0008gem20\"\n",
        "###### job_id = \"cv8emfhqrk1g008r0b5g\"\n",
        "job_id = \"cv8ynme8gpc0008gg1wg\"\n",
        "###### job_id = \"cv8yyy3emvv000850fmg\"\n",
        "###### job_id = \"cv8yzc5sgfsg008eb4zg\"\n",
        "job = service.job(job_id)\n",
        "result = job.result()\n",
        "counts = result.get_counts()\n",
        "print((counts['11'])/(counts['01']))\n",
        "# plot_histogram(counts, filename='attack_b_b=1_3.png')"
      ]
    },
    {
      "cell_type": "code",
      "execution_count": 11,
      "metadata": {},
      "outputs": [
        {
          "name": "stdout",
          "output_type": "stream",
          "text": [
            "2.802787456445993\n"
          ]
        }
      ],
      "source": [
        "job_id = \"cv8bsxqqrk1g008r07b0\"\n",
        "# job_id = \"cv8bszqsgfsg008e9hd0\"\n",
        "# job_id = \"cv8bt188gpc0008gegfg\"\n",
        "job = service.job(job_id)\n",
        "result = job.result()\n",
        "counts = result.get_counts()\n",
        "print((counts['11'])/(counts['01']))\n",
        "# plot_histogram(counts, filename='attack_b_higher_energy_3.png')"
      ]
    },
    {
      "cell_type": "code",
      "execution_count": 14,
      "metadata": {},
      "outputs": [
        {
          "name": "stdout",
          "output_type": "stream",
          "text": [
            "0.8879821958456974\n"
          ]
        }
      ],
      "source": [
        "job_id = \"cv89dhpm2bgg008kk8yg\"\n",
        "# job_id = \"cv89dmpkfn8g008vnsgg\"\n",
        "# job_id = \"cv89dpysgfsg008e9b5g\"\n",
        "job = service.job(job_id)\n",
        "result = job.result()\n",
        "counts = result.get_counts()\n",
        "print((counts['11'])/(counts['01']))\n",
        "# plot_histogram(counts, filename='attack_a_a=1_3.png')"
      ]
    },
    {
      "cell_type": "code",
      "execution_count": 15,
      "metadata": {},
      "outputs": [
        {
          "name": "stdout",
          "output_type": "stream",
          "text": [
            "0.7905359946176272\n"
          ]
        }
      ],
      "source": [
        "job_id = \"cv88y8semvv00084yrd0\"\n",
        "# job_id = \"cv88yc18gpc0008ge8yg\"\n",
        "# job_id = \"cv88yg2emvv00084yrf0\"\n",
        "job = service.job(job_id)\n",
        "result = job.result()\n",
        "counts = result.get_counts()\n",
        "print((counts['11'])/(counts['01']))\n",
        "# plot_histogram(counts, filename='attack_a_higher_energy_1.png')"
      ]
    },
    {
      "cell_type": "code",
      "execution_count": 19,
      "metadata": {},
      "outputs": [
        {
          "ename": "RuntimeJobNotFound",
          "evalue": "'Job not found: 404 Client Error: Not Found for url: https://api.quantum.ibm.com/runtime/jobs/ctz31qpvz5fg0081c770?exclude_params=true. {\"errors\":[{\"code\":1291,\"message\":\"Job not found. Job ID: ctz31qpvz5fg0081c770\",\"solution\":\"Verify the job ID is correct, and that you have the correct access permissions.\",\"more_info\":\"https://docs.quantum-computing.ibm.com/errors\"}]}'",
          "output_type": "error",
          "traceback": [
            "\u001b[0;31m---------------------------------------------------------------------------\u001b[0m",
            "\u001b[0;31mRuntimeJobNotFound\u001b[0m                        Traceback (most recent call last)",
            "Cell \u001b[0;32mIn[19], line 2\u001b[0m\n\u001b[1;32m      1\u001b[0m job_id \u001b[38;5;241m=\u001b[39m \u001b[38;5;124m\"\u001b[39m\u001b[38;5;124mctz31qpvz5fg0081c770\u001b[39m\u001b[38;5;124m\"\u001b[39m\n\u001b[0;32m----> 2\u001b[0m job \u001b[38;5;241m=\u001b[39m \u001b[43mservice\u001b[49m\u001b[38;5;241;43m.\u001b[39;49m\u001b[43mjob\u001b[49m\u001b[43m(\u001b[49m\u001b[43mjob_id\u001b[49m\u001b[43m)\u001b[49m\n\u001b[1;32m      3\u001b[0m result \u001b[38;5;241m=\u001b[39m job\u001b[38;5;241m.\u001b[39mresult()\n\u001b[1;32m      4\u001b[0m counts \u001b[38;5;241m=\u001b[39m result\u001b[38;5;241m.\u001b[39mget_counts()\n",
            "File \u001b[0;32m~/anaconda3/envs/qiskit/lib/python3.10/site-packages/qiskit_ibm_runtime/qiskit_runtime_service.py:936\u001b[0m, in \u001b[0;36mQiskitRuntimeService.job\u001b[0;34m(self, job_id)\u001b[0m\n\u001b[1;32m    934\u001b[0m \u001b[38;5;28;01mexcept\u001b[39;00m RequestsApiError \u001b[38;5;28;01mas\u001b[39;00m ex:\n\u001b[1;32m    935\u001b[0m     \u001b[38;5;28;01mif\u001b[39;00m ex\u001b[38;5;241m.\u001b[39mstatus_code \u001b[38;5;241m==\u001b[39m \u001b[38;5;241m404\u001b[39m:\n\u001b[0;32m--> 936\u001b[0m         \u001b[38;5;28;01mraise\u001b[39;00m RuntimeJobNotFound(\u001b[38;5;124mf\u001b[39m\u001b[38;5;124m\"\u001b[39m\u001b[38;5;124mJob not found: \u001b[39m\u001b[38;5;132;01m{\u001b[39;00mex\u001b[38;5;241m.\u001b[39mmessage\u001b[38;5;132;01m}\u001b[39;00m\u001b[38;5;124m\"\u001b[39m) \u001b[38;5;28;01mfrom\u001b[39;00m \u001b[38;5;28;01mNone\u001b[39;00m\n\u001b[1;32m    937\u001b[0m     \u001b[38;5;28;01mraise\u001b[39;00m IBMRuntimeError(\u001b[38;5;124mf\u001b[39m\u001b[38;5;124m\"\u001b[39m\u001b[38;5;124mFailed to delete job: \u001b[39m\u001b[38;5;132;01m{\u001b[39;00mex\u001b[38;5;132;01m}\u001b[39;00m\u001b[38;5;124m\"\u001b[39m) \u001b[38;5;28;01mfrom\u001b[39;00m \u001b[38;5;28;01mNone\u001b[39;00m\n\u001b[1;32m    938\u001b[0m \u001b[38;5;28;01mreturn\u001b[39;00m \u001b[38;5;28mself\u001b[39m\u001b[38;5;241m.\u001b[39m_decode_job(response)\n",
            "\u001b[0;31mRuntimeJobNotFound\u001b[0m: 'Job not found: 404 Client Error: Not Found for url: https://api.quantum.ibm.com/runtime/jobs/ctz31qpvz5fg0081c770?exclude_params=true. {\"errors\":[{\"code\":1291,\"message\":\"Job not found. Job ID: ctz31qpvz5fg0081c770\",\"solution\":\"Verify the job ID is correct, and that you have the correct access permissions.\",\"more_info\":\"https://docs.quantum-computing.ibm.com/errors\"}]}'"
          ]
        }
      ],
      "source": [
        "job_id = \"ctz31qpvz5fg0081c770\"\n",
        "job = service.job(job_id)\n",
        "result = job.result()\n",
        "counts = result.get_counts()\n",
        "print((counts['11'])/(counts['01']))\n",
        "plot_histogram(counts, title='higher energy attack on HHL ancilla')"
      ]
    },
    {
      "cell_type": "code",
      "execution_count": null,
      "metadata": {},
      "outputs": [
        {
          "name": "stdout",
          "output_type": "stream",
          "text": [
            "1.5625\n"
          ]
        },
        {
          "data": {
            "image/png": "[encoded data removed]",
            "text/plain": [
              "<Figure size 700x500 with 1 Axes>"
            ]
          },
          "execution_count": 28,
          "metadata": {},
          "output_type": "execute_result"
        }
      ],
      "source": [
        "job_id = \"ctz23hpfhad0008tk3r0\"\n",
        "job = service.job(job_id)\n",
        "result = job.result()\n",
        "counts = result.get_counts()\n",
        "print(((counts['11'])**2)/((counts['01'])**2))\n",
        "plot_histogram(counts, title='higher energy attack on HHL ancilla')"
      ]
    }
  ],
  "metadata": {
    "colab": {
      "provenance": []
    },
    "kernelspec": {
      "display_name": "qiskit",
      "language": "python",
      "name": "python3"
    },
    "language_info": {
      "codemirror_mode": {
        "name": "ipython",
        "version": 3
      },
      "file_extension": ".py",
      "mimetype": "text/x-python",
      "name": "python",
      "nbconvert_exporter": "python",
      "pygments_lexer": "ipython3",
      "version": "3.10.14"
    }
  },
  "nbformat": 4,
  "nbformat_minor": 0
}
